{
  "cells": [
    {
      "cell_type": "markdown",
      "id": "e8a2780d",
      "metadata": {
        "id": "e8a2780d"
      },
      "source": [
        "# IMPORTING NECESSARY LIBRARIES"
      ]
    },
    {
      "cell_type": "code",
      "execution_count": 268,
      "id": "5dd0bf5a",
      "metadata": {
        "scrolled": true,
        "id": "5dd0bf5a"
      },
      "outputs": [],
      "source": [
        "import pandas as pd\n",
        "import numpy as np\n",
        "import matplotlib.pyplot as plt\n",
        "import seaborn as sns\n",
        "from sklearn.preprocessing import OneHotEncoder,LabelEncoder\n",
        "from sklearn.linear_model import LogisticRegression\n",
        "from sklearn.model_selection import train_test_split\n",
        "from sklearn.metrics import accuracy_score,classification_report,confusion_matrix\n",
        "from sklearn.naive_bayes import BernoulliNB,GaussianNB,MultinomialNB\n",
        "from sklearn.tree import DecisionTreeClassifier\n",
        "from sklearn.ensemble import RandomForestClassifier, GradientBoostingClassifier\n",
        "from sklearn.svm import SVC\n",
        "from sklearn.neighbors import KNeighborsClassifier  \n",
        "from sklearn.cluster import KMeans\n",
        "import tensorflow as tf\n",
        "%matplotlib inline "
      ]
    },
    {
      "cell_type": "markdown",
      "id": "cbfc4e43",
      "metadata": {
        "id": "cbfc4e43"
      },
      "source": [
        "# IMPORT THE DATASET"
      ]
    },
    {
      "cell_type": "code",
      "execution_count": 269,
      "id": "353cfc59",
      "metadata": {
        "colab": {
          "base_uri": "https://localhost:8080/",
          "height": 206
        },
        "id": "353cfc59",
        "outputId": "a3db05c0-6dc5-4b8d-a622-5e648a58fc12"
      },
      "outputs": [
        {
          "output_type": "execute_result",
          "data": {
            "text/plain": [
              "   Education  JoiningYear       City  PaymentTier  Age  Gender EverBenched  \\\n",
              "0  Bachelors         2017  Bangalore            3   34    Male          No   \n",
              "1  Bachelors         2013       Pune            1   28  Female          No   \n",
              "2  Bachelors         2014  New Delhi            3   38  Female          No   \n",
              "3    Masters         2016  Bangalore            3   27    Male          No   \n",
              "4    Masters         2017       Pune            3   24    Male         Yes   \n",
              "\n",
              "   ExperienceInCurrentDomain  LeaveOrNot  \n",
              "0                          0           0  \n",
              "1                          3           1  \n",
              "2                          2           0  \n",
              "3                          5           1  \n",
              "4                          2           1  "
            ],
            "text/html": [
              "\n",
              "  <div id=\"df-9725db08-3890-4aa2-9f60-bf7c6dbe6f46\">\n",
              "    <div class=\"colab-df-container\">\n",
              "      <div>\n",
              "<style scoped>\n",
              "    .dataframe tbody tr th:only-of-type {\n",
              "        vertical-align: middle;\n",
              "    }\n",
              "\n",
              "    .dataframe tbody tr th {\n",
              "        vertical-align: top;\n",
              "    }\n",
              "\n",
              "    .dataframe thead th {\n",
              "        text-align: right;\n",
              "    }\n",
              "</style>\n",
              "<table border=\"1\" class=\"dataframe\">\n",
              "  <thead>\n",
              "    <tr style=\"text-align: right;\">\n",
              "      <th></th>\n",
              "      <th>Education</th>\n",
              "      <th>JoiningYear</th>\n",
              "      <th>City</th>\n",
              "      <th>PaymentTier</th>\n",
              "      <th>Age</th>\n",
              "      <th>Gender</th>\n",
              "      <th>EverBenched</th>\n",
              "      <th>ExperienceInCurrentDomain</th>\n",
              "      <th>LeaveOrNot</th>\n",
              "    </tr>\n",
              "  </thead>\n",
              "  <tbody>\n",
              "    <tr>\n",
              "      <th>0</th>\n",
              "      <td>Bachelors</td>\n",
              "      <td>2017</td>\n",
              "      <td>Bangalore</td>\n",
              "      <td>3</td>\n",
              "      <td>34</td>\n",
              "      <td>Male</td>\n",
              "      <td>No</td>\n",
              "      <td>0</td>\n",
              "      <td>0</td>\n",
              "    </tr>\n",
              "    <tr>\n",
              "      <th>1</th>\n",
              "      <td>Bachelors</td>\n",
              "      <td>2013</td>\n",
              "      <td>Pune</td>\n",
              "      <td>1</td>\n",
              "      <td>28</td>\n",
              "      <td>Female</td>\n",
              "      <td>No</td>\n",
              "      <td>3</td>\n",
              "      <td>1</td>\n",
              "    </tr>\n",
              "    <tr>\n",
              "      <th>2</th>\n",
              "      <td>Bachelors</td>\n",
              "      <td>2014</td>\n",
              "      <td>New Delhi</td>\n",
              "      <td>3</td>\n",
              "      <td>38</td>\n",
              "      <td>Female</td>\n",
              "      <td>No</td>\n",
              "      <td>2</td>\n",
              "      <td>0</td>\n",
              "    </tr>\n",
              "    <tr>\n",
              "      <th>3</th>\n",
              "      <td>Masters</td>\n",
              "      <td>2016</td>\n",
              "      <td>Bangalore</td>\n",
              "      <td>3</td>\n",
              "      <td>27</td>\n",
              "      <td>Male</td>\n",
              "      <td>No</td>\n",
              "      <td>5</td>\n",
              "      <td>1</td>\n",
              "    </tr>\n",
              "    <tr>\n",
              "      <th>4</th>\n",
              "      <td>Masters</td>\n",
              "      <td>2017</td>\n",
              "      <td>Pune</td>\n",
              "      <td>3</td>\n",
              "      <td>24</td>\n",
              "      <td>Male</td>\n",
              "      <td>Yes</td>\n",
              "      <td>2</td>\n",
              "      <td>1</td>\n",
              "    </tr>\n",
              "  </tbody>\n",
              "</table>\n",
              "</div>\n",
              "      <button class=\"colab-df-convert\" onclick=\"convertToInteractive('df-9725db08-3890-4aa2-9f60-bf7c6dbe6f46')\"\n",
              "              title=\"Convert this dataframe to an interactive table.\"\n",
              "              style=\"display:none;\">\n",
              "        \n",
              "  <svg xmlns=\"http://www.w3.org/2000/svg\" height=\"24px\"viewBox=\"0 0 24 24\"\n",
              "       width=\"24px\">\n",
              "    <path d=\"M0 0h24v24H0V0z\" fill=\"none\"/>\n",
              "    <path d=\"M18.56 5.44l.94 2.06.94-2.06 2.06-.94-2.06-.94-.94-2.06-.94 2.06-2.06.94zm-11 1L8.5 8.5l.94-2.06 2.06-.94-2.06-.94L8.5 2.5l-.94 2.06-2.06.94zm10 10l.94 2.06.94-2.06 2.06-.94-2.06-.94-.94-2.06-.94 2.06-2.06.94z\"/><path d=\"M17.41 7.96l-1.37-1.37c-.4-.4-.92-.59-1.43-.59-.52 0-1.04.2-1.43.59L10.3 9.45l-7.72 7.72c-.78.78-.78 2.05 0 2.83L4 21.41c.39.39.9.59 1.41.59.51 0 1.02-.2 1.41-.59l7.78-7.78 2.81-2.81c.8-.78.8-2.07 0-2.86zM5.41 20L4 18.59l7.72-7.72 1.47 1.35L5.41 20z\"/>\n",
              "  </svg>\n",
              "      </button>\n",
              "      \n",
              "  <style>\n",
              "    .colab-df-container {\n",
              "      display:flex;\n",
              "      flex-wrap:wrap;\n",
              "      gap: 12px;\n",
              "    }\n",
              "\n",
              "    .colab-df-convert {\n",
              "      background-color: #E8F0FE;\n",
              "      border: none;\n",
              "      border-radius: 50%;\n",
              "      cursor: pointer;\n",
              "      display: none;\n",
              "      fill: #1967D2;\n",
              "      height: 32px;\n",
              "      padding: 0 0 0 0;\n",
              "      width: 32px;\n",
              "    }\n",
              "\n",
              "    .colab-df-convert:hover {\n",
              "      background-color: #E2EBFA;\n",
              "      box-shadow: 0px 1px 2px rgba(60, 64, 67, 0.3), 0px 1px 3px 1px rgba(60, 64, 67, 0.15);\n",
              "      fill: #174EA6;\n",
              "    }\n",
              "\n",
              "    [theme=dark] .colab-df-convert {\n",
              "      background-color: #3B4455;\n",
              "      fill: #D2E3FC;\n",
              "    }\n",
              "\n",
              "    [theme=dark] .colab-df-convert:hover {\n",
              "      background-color: #434B5C;\n",
              "      box-shadow: 0px 1px 3px 1px rgba(0, 0, 0, 0.15);\n",
              "      filter: drop-shadow(0px 1px 2px rgba(0, 0, 0, 0.3));\n",
              "      fill: #FFFFFF;\n",
              "    }\n",
              "  </style>\n",
              "\n",
              "      <script>\n",
              "        const buttonEl =\n",
              "          document.querySelector('#df-9725db08-3890-4aa2-9f60-bf7c6dbe6f46 button.colab-df-convert');\n",
              "        buttonEl.style.display =\n",
              "          google.colab.kernel.accessAllowed ? 'block' : 'none';\n",
              "\n",
              "        async function convertToInteractive(key) {\n",
              "          const element = document.querySelector('#df-9725db08-3890-4aa2-9f60-bf7c6dbe6f46');\n",
              "          const dataTable =\n",
              "            await google.colab.kernel.invokeFunction('convertToInteractive',\n",
              "                                                     [key], {});\n",
              "          if (!dataTable) return;\n",
              "\n",
              "          const docLinkHtml = 'Like what you see? Visit the ' +\n",
              "            '<a target=\"_blank\" href=https://colab.research.google.com/notebooks/data_table.ipynb>data table notebook</a>'\n",
              "            + ' to learn more about interactive tables.';\n",
              "          element.innerHTML = '';\n",
              "          dataTable['output_type'] = 'display_data';\n",
              "          await google.colab.output.renderOutput(dataTable, element);\n",
              "          const docLink = document.createElement('div');\n",
              "          docLink.innerHTML = docLinkHtml;\n",
              "          element.appendChild(docLink);\n",
              "        }\n",
              "      </script>\n",
              "    </div>\n",
              "  </div>\n",
              "  "
            ]
          },
          "metadata": {},
          "execution_count": 269
        }
      ],
      "source": [
        "df=pd.read_csv('/content/Employee.csv')\n",
        "df.head()"
      ]
    },
    {
      "cell_type": "code",
      "execution_count": 270,
      "id": "31a6c342",
      "metadata": {
        "colab": {
          "base_uri": "https://localhost:8080/"
        },
        "id": "31a6c342",
        "outputId": "a806aab7-04a9-473c-8b02-e4f48f330e94"
      },
      "outputs": [
        {
          "output_type": "execute_result",
          "data": {
            "text/plain": [
              "Education                    0\n",
              "JoiningYear                  0\n",
              "City                         0\n",
              "PaymentTier                  0\n",
              "Age                          0\n",
              "Gender                       0\n",
              "EverBenched                  0\n",
              "ExperienceInCurrentDomain    0\n",
              "LeaveOrNot                   0\n",
              "dtype: int64"
            ]
          },
          "metadata": {},
          "execution_count": 270
        }
      ],
      "source": [
        "df.isnull().sum()"
      ]
    },
    {
      "cell_type": "code",
      "execution_count": 271,
      "id": "8a56ba07",
      "metadata": {
        "colab": {
          "base_uri": "https://localhost:8080/"
        },
        "id": "8a56ba07",
        "outputId": "5f41a49e-d744-4c46-d5da-6d790fbb35e1"
      },
      "outputs": [
        {
          "output_type": "stream",
          "name": "stdout",
          "text": [
            "<class 'pandas.core.frame.DataFrame'>\n",
            "RangeIndex: 4653 entries, 0 to 4652\n",
            "Data columns (total 9 columns):\n",
            " #   Column                     Non-Null Count  Dtype \n",
            "---  ------                     --------------  ----- \n",
            " 0   Education                  4653 non-null   object\n",
            " 1   JoiningYear                4653 non-null   int64 \n",
            " 2   City                       4653 non-null   object\n",
            " 3   PaymentTier                4653 non-null   int64 \n",
            " 4   Age                        4653 non-null   int64 \n",
            " 5   Gender                     4653 non-null   object\n",
            " 6   EverBenched                4653 non-null   object\n",
            " 7   ExperienceInCurrentDomain  4653 non-null   int64 \n",
            " 8   LeaveOrNot                 4653 non-null   int64 \n",
            "dtypes: int64(5), object(4)\n",
            "memory usage: 327.3+ KB\n"
          ]
        }
      ],
      "source": [
        "df.info()"
      ]
    },
    {
      "cell_type": "code",
      "execution_count": 272,
      "id": "679b6452",
      "metadata": {
        "colab": {
          "base_uri": "https://localhost:8080/"
        },
        "id": "679b6452",
        "outputId": "93fb5bba-d5e1-429d-d810-429a99bf1871"
      },
      "outputs": [
        {
          "output_type": "execute_result",
          "data": {
            "text/plain": [
              "(4653, 9)"
            ]
          },
          "metadata": {},
          "execution_count": 272
        }
      ],
      "source": [
        "df.shape"
      ]
    },
    {
      "cell_type": "markdown",
      "id": "54b1d1d0",
      "metadata": {
        "id": "54b1d1d0"
      },
      "source": [
        "# Encoding"
      ]
    },
    {
      "cell_type": "code",
      "execution_count": 273,
      "id": "39ccfa5b",
      "metadata": {
        "scrolled": true,
        "colab": {
          "base_uri": "https://localhost:8080/",
          "height": 287
        },
        "id": "39ccfa5b",
        "outputId": "63932951-ca2f-4d9a-f355-30f2cc10c0ff"
      },
      "outputs": [
        {
          "output_type": "execute_result",
          "data": {
            "text/plain": [
              "   Education  JoiningYear  PaymentTier  Age EverBenched  \\\n",
              "0  Bachelors         2017            3   34          No   \n",
              "1  Bachelors         2013            1   28          No   \n",
              "2  Bachelors         2014            3   38          No   \n",
              "3    Masters         2016            3   27          No   \n",
              "4    Masters         2017            3   24         Yes   \n",
              "\n",
              "   ExperienceInCurrentDomain  LeaveOrNot  City_Bangalore  City_New Delhi  \\\n",
              "0                          0           0               1               0   \n",
              "1                          3           1               0               0   \n",
              "2                          2           0               0               1   \n",
              "3                          5           1               1               0   \n",
              "4                          2           1               0               0   \n",
              "\n",
              "   City_Pune  Gender_Female  Gender_Male  \n",
              "0          0              0            1  \n",
              "1          1              1            0  \n",
              "2          0              1            0  \n",
              "3          0              0            1  \n",
              "4          1              0            1  "
            ],
            "text/html": [
              "\n",
              "  <div id=\"df-d321758b-c313-4ff9-b330-e8b61b663c03\">\n",
              "    <div class=\"colab-df-container\">\n",
              "      <div>\n",
              "<style scoped>\n",
              "    .dataframe tbody tr th:only-of-type {\n",
              "        vertical-align: middle;\n",
              "    }\n",
              "\n",
              "    .dataframe tbody tr th {\n",
              "        vertical-align: top;\n",
              "    }\n",
              "\n",
              "    .dataframe thead th {\n",
              "        text-align: right;\n",
              "    }\n",
              "</style>\n",
              "<table border=\"1\" class=\"dataframe\">\n",
              "  <thead>\n",
              "    <tr style=\"text-align: right;\">\n",
              "      <th></th>\n",
              "      <th>Education</th>\n",
              "      <th>JoiningYear</th>\n",
              "      <th>PaymentTier</th>\n",
              "      <th>Age</th>\n",
              "      <th>EverBenched</th>\n",
              "      <th>ExperienceInCurrentDomain</th>\n",
              "      <th>LeaveOrNot</th>\n",
              "      <th>City_Bangalore</th>\n",
              "      <th>City_New Delhi</th>\n",
              "      <th>City_Pune</th>\n",
              "      <th>Gender_Female</th>\n",
              "      <th>Gender_Male</th>\n",
              "    </tr>\n",
              "  </thead>\n",
              "  <tbody>\n",
              "    <tr>\n",
              "      <th>0</th>\n",
              "      <td>Bachelors</td>\n",
              "      <td>2017</td>\n",
              "      <td>3</td>\n",
              "      <td>34</td>\n",
              "      <td>No</td>\n",
              "      <td>0</td>\n",
              "      <td>0</td>\n",
              "      <td>1</td>\n",
              "      <td>0</td>\n",
              "      <td>0</td>\n",
              "      <td>0</td>\n",
              "      <td>1</td>\n",
              "    </tr>\n",
              "    <tr>\n",
              "      <th>1</th>\n",
              "      <td>Bachelors</td>\n",
              "      <td>2013</td>\n",
              "      <td>1</td>\n",
              "      <td>28</td>\n",
              "      <td>No</td>\n",
              "      <td>3</td>\n",
              "      <td>1</td>\n",
              "      <td>0</td>\n",
              "      <td>0</td>\n",
              "      <td>1</td>\n",
              "      <td>1</td>\n",
              "      <td>0</td>\n",
              "    </tr>\n",
              "    <tr>\n",
              "      <th>2</th>\n",
              "      <td>Bachelors</td>\n",
              "      <td>2014</td>\n",
              "      <td>3</td>\n",
              "      <td>38</td>\n",
              "      <td>No</td>\n",
              "      <td>2</td>\n",
              "      <td>0</td>\n",
              "      <td>0</td>\n",
              "      <td>1</td>\n",
              "      <td>0</td>\n",
              "      <td>1</td>\n",
              "      <td>0</td>\n",
              "    </tr>\n",
              "    <tr>\n",
              "      <th>3</th>\n",
              "      <td>Masters</td>\n",
              "      <td>2016</td>\n",
              "      <td>3</td>\n",
              "      <td>27</td>\n",
              "      <td>No</td>\n",
              "      <td>5</td>\n",
              "      <td>1</td>\n",
              "      <td>1</td>\n",
              "      <td>0</td>\n",
              "      <td>0</td>\n",
              "      <td>0</td>\n",
              "      <td>1</td>\n",
              "    </tr>\n",
              "    <tr>\n",
              "      <th>4</th>\n",
              "      <td>Masters</td>\n",
              "      <td>2017</td>\n",
              "      <td>3</td>\n",
              "      <td>24</td>\n",
              "      <td>Yes</td>\n",
              "      <td>2</td>\n",
              "      <td>1</td>\n",
              "      <td>0</td>\n",
              "      <td>0</td>\n",
              "      <td>1</td>\n",
              "      <td>0</td>\n",
              "      <td>1</td>\n",
              "    </tr>\n",
              "  </tbody>\n",
              "</table>\n",
              "</div>\n",
              "      <button class=\"colab-df-convert\" onclick=\"convertToInteractive('df-d321758b-c313-4ff9-b330-e8b61b663c03')\"\n",
              "              title=\"Convert this dataframe to an interactive table.\"\n",
              "              style=\"display:none;\">\n",
              "        \n",
              "  <svg xmlns=\"http://www.w3.org/2000/svg\" height=\"24px\"viewBox=\"0 0 24 24\"\n",
              "       width=\"24px\">\n",
              "    <path d=\"M0 0h24v24H0V0z\" fill=\"none\"/>\n",
              "    <path d=\"M18.56 5.44l.94 2.06.94-2.06 2.06-.94-2.06-.94-.94-2.06-.94 2.06-2.06.94zm-11 1L8.5 8.5l.94-2.06 2.06-.94-2.06-.94L8.5 2.5l-.94 2.06-2.06.94zm10 10l.94 2.06.94-2.06 2.06-.94-2.06-.94-.94-2.06-.94 2.06-2.06.94z\"/><path d=\"M17.41 7.96l-1.37-1.37c-.4-.4-.92-.59-1.43-.59-.52 0-1.04.2-1.43.59L10.3 9.45l-7.72 7.72c-.78.78-.78 2.05 0 2.83L4 21.41c.39.39.9.59 1.41.59.51 0 1.02-.2 1.41-.59l7.78-7.78 2.81-2.81c.8-.78.8-2.07 0-2.86zM5.41 20L4 18.59l7.72-7.72 1.47 1.35L5.41 20z\"/>\n",
              "  </svg>\n",
              "      </button>\n",
              "      \n",
              "  <style>\n",
              "    .colab-df-container {\n",
              "      display:flex;\n",
              "      flex-wrap:wrap;\n",
              "      gap: 12px;\n",
              "    }\n",
              "\n",
              "    .colab-df-convert {\n",
              "      background-color: #E8F0FE;\n",
              "      border: none;\n",
              "      border-radius: 50%;\n",
              "      cursor: pointer;\n",
              "      display: none;\n",
              "      fill: #1967D2;\n",
              "      height: 32px;\n",
              "      padding: 0 0 0 0;\n",
              "      width: 32px;\n",
              "    }\n",
              "\n",
              "    .colab-df-convert:hover {\n",
              "      background-color: #E2EBFA;\n",
              "      box-shadow: 0px 1px 2px rgba(60, 64, 67, 0.3), 0px 1px 3px 1px rgba(60, 64, 67, 0.15);\n",
              "      fill: #174EA6;\n",
              "    }\n",
              "\n",
              "    [theme=dark] .colab-df-convert {\n",
              "      background-color: #3B4455;\n",
              "      fill: #D2E3FC;\n",
              "    }\n",
              "\n",
              "    [theme=dark] .colab-df-convert:hover {\n",
              "      background-color: #434B5C;\n",
              "      box-shadow: 0px 1px 3px 1px rgba(0, 0, 0, 0.15);\n",
              "      filter: drop-shadow(0px 1px 2px rgba(0, 0, 0, 0.3));\n",
              "      fill: #FFFFFF;\n",
              "    }\n",
              "  </style>\n",
              "\n",
              "      <script>\n",
              "        const buttonEl =\n",
              "          document.querySelector('#df-d321758b-c313-4ff9-b330-e8b61b663c03 button.colab-df-convert');\n",
              "        buttonEl.style.display =\n",
              "          google.colab.kernel.accessAllowed ? 'block' : 'none';\n",
              "\n",
              "        async function convertToInteractive(key) {\n",
              "          const element = document.querySelector('#df-d321758b-c313-4ff9-b330-e8b61b663c03');\n",
              "          const dataTable =\n",
              "            await google.colab.kernel.invokeFunction('convertToInteractive',\n",
              "                                                     [key], {});\n",
              "          if (!dataTable) return;\n",
              "\n",
              "          const docLinkHtml = 'Like what you see? Visit the ' +\n",
              "            '<a target=\"_blank\" href=https://colab.research.google.com/notebooks/data_table.ipynb>data table notebook</a>'\n",
              "            + ' to learn more about interactive tables.';\n",
              "          element.innerHTML = '';\n",
              "          dataTable['output_type'] = 'display_data';\n",
              "          await google.colab.output.renderOutput(dataTable, element);\n",
              "          const docLink = document.createElement('div');\n",
              "          docLink.innerHTML = docLinkHtml;\n",
              "          element.appendChild(docLink);\n",
              "        }\n",
              "      </script>\n",
              "    </div>\n",
              "  </div>\n",
              "  "
            ]
          },
          "metadata": {},
          "execution_count": 273
        }
      ],
      "source": [
        "#Converting cities into numerical columns using get dummies method\n",
        "new_df = pd.get_dummies(df, columns = ['City','Gender'])\n",
        "new_df.head()"
      ]
    },
    {
      "cell_type": "code",
      "execution_count": 274,
      "id": "3fca28d4",
      "metadata": {
        "colab": {
          "base_uri": "https://localhost:8080/",
          "height": 287
        },
        "id": "3fca28d4",
        "outputId": "9dbb4308-c19a-4d3e-cb8f-0a65f53bc30f"
      },
      "outputs": [
        {
          "output_type": "execute_result",
          "data": {
            "text/plain": [
              "   Education  JoiningYear  PaymentTier  Age  EverBenched  \\\n",
              "0          1         2017            3   34            0   \n",
              "1          1         2013            1   28            0   \n",
              "2          1         2014            3   38            0   \n",
              "3          2         2016            3   27            0   \n",
              "4          2         2017            3   24            1   \n",
              "\n",
              "   ExperienceInCurrentDomain  LeaveOrNot  City_Bangalore  City_New Delhi  \\\n",
              "0                          0           0               1               0   \n",
              "1                          3           1               0               0   \n",
              "2                          2           0               0               1   \n",
              "3                          5           1               1               0   \n",
              "4                          2           1               0               0   \n",
              "\n",
              "   City_Pune  Gender_Female  Gender_Male  \n",
              "0          0              0            1  \n",
              "1          1              1            0  \n",
              "2          0              1            0  \n",
              "3          0              0            1  \n",
              "4          1              0            1  "
            ],
            "text/html": [
              "\n",
              "  <div id=\"df-f7187809-d184-42d5-bde9-07a2c5bd48db\">\n",
              "    <div class=\"colab-df-container\">\n",
              "      <div>\n",
              "<style scoped>\n",
              "    .dataframe tbody tr th:only-of-type {\n",
              "        vertical-align: middle;\n",
              "    }\n",
              "\n",
              "    .dataframe tbody tr th {\n",
              "        vertical-align: top;\n",
              "    }\n",
              "\n",
              "    .dataframe thead th {\n",
              "        text-align: right;\n",
              "    }\n",
              "</style>\n",
              "<table border=\"1\" class=\"dataframe\">\n",
              "  <thead>\n",
              "    <tr style=\"text-align: right;\">\n",
              "      <th></th>\n",
              "      <th>Education</th>\n",
              "      <th>JoiningYear</th>\n",
              "      <th>PaymentTier</th>\n",
              "      <th>Age</th>\n",
              "      <th>EverBenched</th>\n",
              "      <th>ExperienceInCurrentDomain</th>\n",
              "      <th>LeaveOrNot</th>\n",
              "      <th>City_Bangalore</th>\n",
              "      <th>City_New Delhi</th>\n",
              "      <th>City_Pune</th>\n",
              "      <th>Gender_Female</th>\n",
              "      <th>Gender_Male</th>\n",
              "    </tr>\n",
              "  </thead>\n",
              "  <tbody>\n",
              "    <tr>\n",
              "      <th>0</th>\n",
              "      <td>1</td>\n",
              "      <td>2017</td>\n",
              "      <td>3</td>\n",
              "      <td>34</td>\n",
              "      <td>0</td>\n",
              "      <td>0</td>\n",
              "      <td>0</td>\n",
              "      <td>1</td>\n",
              "      <td>0</td>\n",
              "      <td>0</td>\n",
              "      <td>0</td>\n",
              "      <td>1</td>\n",
              "    </tr>\n",
              "    <tr>\n",
              "      <th>1</th>\n",
              "      <td>1</td>\n",
              "      <td>2013</td>\n",
              "      <td>1</td>\n",
              "      <td>28</td>\n",
              "      <td>0</td>\n",
              "      <td>3</td>\n",
              "      <td>1</td>\n",
              "      <td>0</td>\n",
              "      <td>0</td>\n",
              "      <td>1</td>\n",
              "      <td>1</td>\n",
              "      <td>0</td>\n",
              "    </tr>\n",
              "    <tr>\n",
              "      <th>2</th>\n",
              "      <td>1</td>\n",
              "      <td>2014</td>\n",
              "      <td>3</td>\n",
              "      <td>38</td>\n",
              "      <td>0</td>\n",
              "      <td>2</td>\n",
              "      <td>0</td>\n",
              "      <td>0</td>\n",
              "      <td>1</td>\n",
              "      <td>0</td>\n",
              "      <td>1</td>\n",
              "      <td>0</td>\n",
              "    </tr>\n",
              "    <tr>\n",
              "      <th>3</th>\n",
              "      <td>2</td>\n",
              "      <td>2016</td>\n",
              "      <td>3</td>\n",
              "      <td>27</td>\n",
              "      <td>0</td>\n",
              "      <td>5</td>\n",
              "      <td>1</td>\n",
              "      <td>1</td>\n",
              "      <td>0</td>\n",
              "      <td>0</td>\n",
              "      <td>0</td>\n",
              "      <td>1</td>\n",
              "    </tr>\n",
              "    <tr>\n",
              "      <th>4</th>\n",
              "      <td>2</td>\n",
              "      <td>2017</td>\n",
              "      <td>3</td>\n",
              "      <td>24</td>\n",
              "      <td>1</td>\n",
              "      <td>2</td>\n",
              "      <td>1</td>\n",
              "      <td>0</td>\n",
              "      <td>0</td>\n",
              "      <td>1</td>\n",
              "      <td>0</td>\n",
              "      <td>1</td>\n",
              "    </tr>\n",
              "  </tbody>\n",
              "</table>\n",
              "</div>\n",
              "      <button class=\"colab-df-convert\" onclick=\"convertToInteractive('df-f7187809-d184-42d5-bde9-07a2c5bd48db')\"\n",
              "              title=\"Convert this dataframe to an interactive table.\"\n",
              "              style=\"display:none;\">\n",
              "        \n",
              "  <svg xmlns=\"http://www.w3.org/2000/svg\" height=\"24px\"viewBox=\"0 0 24 24\"\n",
              "       width=\"24px\">\n",
              "    <path d=\"M0 0h24v24H0V0z\" fill=\"none\"/>\n",
              "    <path d=\"M18.56 5.44l.94 2.06.94-2.06 2.06-.94-2.06-.94-.94-2.06-.94 2.06-2.06.94zm-11 1L8.5 8.5l.94-2.06 2.06-.94-2.06-.94L8.5 2.5l-.94 2.06-2.06.94zm10 10l.94 2.06.94-2.06 2.06-.94-2.06-.94-.94-2.06-.94 2.06-2.06.94z\"/><path d=\"M17.41 7.96l-1.37-1.37c-.4-.4-.92-.59-1.43-.59-.52 0-1.04.2-1.43.59L10.3 9.45l-7.72 7.72c-.78.78-.78 2.05 0 2.83L4 21.41c.39.39.9.59 1.41.59.51 0 1.02-.2 1.41-.59l7.78-7.78 2.81-2.81c.8-.78.8-2.07 0-2.86zM5.41 20L4 18.59l7.72-7.72 1.47 1.35L5.41 20z\"/>\n",
              "  </svg>\n",
              "      </button>\n",
              "      \n",
              "  <style>\n",
              "    .colab-df-container {\n",
              "      display:flex;\n",
              "      flex-wrap:wrap;\n",
              "      gap: 12px;\n",
              "    }\n",
              "\n",
              "    .colab-df-convert {\n",
              "      background-color: #E8F0FE;\n",
              "      border: none;\n",
              "      border-radius: 50%;\n",
              "      cursor: pointer;\n",
              "      display: none;\n",
              "      fill: #1967D2;\n",
              "      height: 32px;\n",
              "      padding: 0 0 0 0;\n",
              "      width: 32px;\n",
              "    }\n",
              "\n",
              "    .colab-df-convert:hover {\n",
              "      background-color: #E2EBFA;\n",
              "      box-shadow: 0px 1px 2px rgba(60, 64, 67, 0.3), 0px 1px 3px 1px rgba(60, 64, 67, 0.15);\n",
              "      fill: #174EA6;\n",
              "    }\n",
              "\n",
              "    [theme=dark] .colab-df-convert {\n",
              "      background-color: #3B4455;\n",
              "      fill: #D2E3FC;\n",
              "    }\n",
              "\n",
              "    [theme=dark] .colab-df-convert:hover {\n",
              "      background-color: #434B5C;\n",
              "      box-shadow: 0px 1px 3px 1px rgba(0, 0, 0, 0.15);\n",
              "      filter: drop-shadow(0px 1px 2px rgba(0, 0, 0, 0.3));\n",
              "      fill: #FFFFFF;\n",
              "    }\n",
              "  </style>\n",
              "\n",
              "      <script>\n",
              "        const buttonEl =\n",
              "          document.querySelector('#df-f7187809-d184-42d5-bde9-07a2c5bd48db button.colab-df-convert');\n",
              "        buttonEl.style.display =\n",
              "          google.colab.kernel.accessAllowed ? 'block' : 'none';\n",
              "\n",
              "        async function convertToInteractive(key) {\n",
              "          const element = document.querySelector('#df-f7187809-d184-42d5-bde9-07a2c5bd48db');\n",
              "          const dataTable =\n",
              "            await google.colab.kernel.invokeFunction('convertToInteractive',\n",
              "                                                     [key], {});\n",
              "          if (!dataTable) return;\n",
              "\n",
              "          const docLinkHtml = 'Like what you see? Visit the ' +\n",
              "            '<a target=\"_blank\" href=https://colab.research.google.com/notebooks/data_table.ipynb>data table notebook</a>'\n",
              "            + ' to learn more about interactive tables.';\n",
              "          element.innerHTML = '';\n",
              "          dataTable['output_type'] = 'display_data';\n",
              "          await google.colab.output.renderOutput(dataTable, element);\n",
              "          const docLink = document.createElement('div');\n",
              "          docLink.innerHTML = docLinkHtml;\n",
              "          element.appendChild(docLink);\n",
              "        }\n",
              "      </script>\n",
              "    </div>\n",
              "  </div>\n",
              "  "
            ]
          },
          "metadata": {},
          "execution_count": 274
        }
      ],
      "source": [
        "new_df['Education'].replace(['Bachelors', 'Masters','PHD'], [1, 2, 3], inplace=True)\n",
        "new_df['EverBenched'].replace(['Yes','No'],[1,0], inplace=True)\n",
        "new_df.head()"
      ]
    },
    {
      "cell_type": "code",
      "execution_count": 275,
      "id": "28aea91d",
      "metadata": {
        "colab": {
          "base_uri": "https://localhost:8080/"
        },
        "id": "28aea91d",
        "outputId": "787f580b-44c1-49b5-c519-0f0e81593d07"
      },
      "outputs": [
        {
          "output_type": "execute_result",
          "data": {
            "text/plain": [
              "1    3601\n",
              "2     873\n",
              "3     179\n",
              "Name: Education, dtype: int64"
            ]
          },
          "metadata": {},
          "execution_count": 275
        }
      ],
      "source": [
        "new_df['Education'].value_counts()"
      ]
    },
    {
      "cell_type": "markdown",
      "id": "5909e58d",
      "metadata": {
        "id": "5909e58d"
      },
      "source": [
        "# Outlier Detection"
      ]
    },
    {
      "cell_type": "code",
      "execution_count": 276,
      "id": "3221f321",
      "metadata": {
        "colab": {
          "base_uri": "https://localhost:8080/",
          "height": 296
        },
        "id": "3221f321",
        "outputId": "3ae06c89-e64f-4b4c-9956-f52f20c0c64e"
      },
      "outputs": [
        {
          "output_type": "execute_result",
          "data": {
            "text/plain": [
              "<matplotlib.axes._subplots.AxesSubplot at 0x7f379f3df4c0>"
            ]
          },
          "metadata": {},
          "execution_count": 276
        },
        {
          "output_type": "display_data",
          "data": {
            "text/plain": [
              "<Figure size 432x288 with 1 Axes>"
            ],
            "image/png": "[encoded data removed]"
          },
          "metadata": {
            "needs_background": "light"
          }
        }
      ],
      "source": [
        "sns.boxplot(x=new_df['Age'])"
      ]
    },
    {
      "cell_type": "markdown",
      "source": [
        "#Percentage of employees based on gender\n"
      ],
      "metadata": {
        "id": "K8zRXj7gn098"
      },
      "id": "K8zRXj7gn098"
    },
    {
      "cell_type": "code",
      "source": [
        "l,a=list(set(df[\"Gender\"])),[]\n",
        "for i in range(len(l)):\n",
        "    a.append(list(df[\"Gender\"]).count(l[i]))\n",
        "    l[i]=l[i]+ \" \"+ str(int(list(df[\"Gender\"]).count(l[i])*100/len(df[\"Gender\"])))+\" %\"\n",
        "plt.bar(l,a)\n",
        "plt.show()"
      ],
      "metadata": {
        "colab": {
          "base_uri": "https://localhost:8080/",
          "height": 265
        },
        "id": "yo1F7OUCnWpF",
        "outputId": "9895e40f-89fa-4360-c2c0-ef45b09cc995"
      },
      "id": "yo1F7OUCnWpF",
      "execution_count": 277,
      "outputs": [
        {
          "output_type": "display_data",
          "data": {
            "text/plain": [
              "<Figure size 432x288 with 1 Axes>"
            ],
            "image/png": "[encoded data removed]"
          },
          "metadata": {
            "needs_background": "light"
          }
        }
      ]
    },
    {
      "cell_type": "markdown",
      "source": [
        "# Leave or not based on city"
      ],
      "metadata": {
        "id": "ZKQSSvyqn60Z"
      },
      "id": "ZKQSSvyqn60Z"
    },
    {
      "cell_type": "code",
      "source": [
        "fig,ax = plt.subplots(figsize=(10,7))\n",
        "sns.countplot(data = df,x='City',hue='LeaveOrNot')\n",
        "plt.show()\n",
        "#Most people in bangalore don't leave their job"
      ],
      "metadata": {
        "colab": {
          "base_uri": "https://localhost:8080/",
          "height": 442
        },
        "id": "q6n62x9onXDv",
        "outputId": "f03d5aad-744b-4ca7-fcda-7e539930afbc"
      },
      "id": "q6n62x9onXDv",
      "execution_count": 278,
      "outputs": [
        {
          "output_type": "display_data",
          "data": {
            "text/plain": [
              "<Figure size 720x504 with 1 Axes>"
            ],
            "image/png": "[encoded data removed]"
          },
          "metadata": {
            "needs_background": "light"
          }
        }
      ]
    },
    {
      "cell_type": "markdown",
      "source": [
        "#Effect of Employees Education in Payment Tiers"
      ],
      "metadata": {
        "id": "4swo7-8yoXWa"
      },
      "id": "4swo7-8yoXWa"
    },
    {
      "cell_type": "code",
      "source": [
        "sns.displot(data=df, x=\"Education\", y=\"PaymentTier\")\n"
      ],
      "metadata": {
        "colab": {
          "base_uri": "https://localhost:8080/",
          "height": 386
        },
        "id": "yTOaOirfnXGE",
        "outputId": "54c7422d-7bf5-4638-b587-3ed753174af6"
      },
      "id": "yTOaOirfnXGE",
      "execution_count": 279,
      "outputs": [
        {
          "output_type": "execute_result",
          "data": {
            "text/plain": [
              "<seaborn.axisgrid.FacetGrid at 0x7f379f3cee20>"
            ]
          },
          "metadata": {},
          "execution_count": 279
        },
        {
          "output_type": "display_data",
          "data": {
            "text/plain": [
              "<Figure size 360x360 with 1 Axes>"
            ],
            "image/png": "[encoded data removed]"
          },
          "metadata": {
            "needs_background": "light"
          }
        }
      ]
    },
    {
      "cell_type": "markdown",
      "source": [
        "#Employees education and leave rate"
      ],
      "metadata": {
        "id": "_px40gfApiVo"
      },
      "id": "_px40gfApiVo"
    },
    {
      "cell_type": "code",
      "source": [
        "leave_emp=pd.crosstab(index=df['Education'],columns=df['LeaveOrNot'])\n",
        "leave_emp.plot.bar()"
      ],
      "metadata": {
        "colab": {
          "base_uri": "https://localhost:8080/",
          "height": 336
        },
        "id": "XKgRdRNznXIJ",
        "outputId": "8abd0d21-55c5-47ec-90a0-5439c132f517"
      },
      "id": "XKgRdRNznXIJ",
      "execution_count": 280,
      "outputs": [
        {
          "output_type": "execute_result",
          "data": {
            "text/plain": [
              "<matplotlib.axes._subplots.AxesSubplot at 0x7f379f3f4250>"
            ]
          },
          "metadata": {},
          "execution_count": 280
        },
        {
          "output_type": "display_data",
          "data": {
            "text/plain": [
              "<Figure size 432x288 with 1 Axes>"
            ],
            "image/png": "[encoded data removed]"
          },
          "metadata": {
            "needs_background": "light"
          }
        }
      ]
    },
    {
      "cell_type": "markdown",
      "source": [
        "#Employees payment Tier and Leave Rate"
      ],
      "metadata": {
        "id": "QtEJcCymye8S"
      },
      "id": "QtEJcCymye8S"
    },
    {
      "cell_type": "code",
      "source": [
        "leave_emp=pd.crosstab(index=df['PaymentTier'],columns=df['LeaveOrNot'])\n",
        "leave_emp.plot.bar()"
      ],
      "metadata": {
        "colab": {
          "base_uri": "https://localhost:8080/",
          "height": 293
        },
        "id": "6kLtP_4duDPh",
        "outputId": "dceb68da-5e4d-4441-bcaf-28f8a56b07cc"
      },
      "id": "6kLtP_4duDPh",
      "execution_count": 281,
      "outputs": [
        {
          "output_type": "execute_result",
          "data": {
            "text/plain": [
              "<matplotlib.axes._subplots.AxesSubplot at 0x7f379b669cd0>"
            ]
          },
          "metadata": {},
          "execution_count": 281
        },
        {
          "output_type": "display_data",
          "data": {
            "text/plain": [
              "<Figure size 432x288 with 1 Axes>"
            ],
            "image/png": "[encoded data removed]"
          },
          "metadata": {
            "needs_background": "light"
          }
        }
      ]
    },
    {
      "cell_type": "markdown",
      "source": [
        "#Employees Gender and Leave Rate"
      ],
      "metadata": {
        "id": "WterCQ7Dyj38"
      },
      "id": "WterCQ7Dyj38"
    },
    {
      "cell_type": "code",
      "source": [
        "leave_emp=pd.crosstab(index=df['Gender'],columns=df['LeaveOrNot'])\n",
        "leave_emp.plot.bar()"
      ],
      "metadata": {
        "colab": {
          "base_uri": "https://localhost:8080/",
          "height": 322
        },
        "id": "SEd_DMLauDW7",
        "outputId": "d4dae91c-6e1f-463d-d525-eb10ba9bb552"
      },
      "id": "SEd_DMLauDW7",
      "execution_count": 282,
      "outputs": [
        {
          "output_type": "execute_result",
          "data": {
            "text/plain": [
              "<matplotlib.axes._subplots.AxesSubplot at 0x7f379b5c7b20>"
            ]
          },
          "metadata": {},
          "execution_count": 282
        },
        {
          "output_type": "display_data",
          "data": {
            "text/plain": [
              "<Figure size 432x288 with 1 Axes>"
            ],
            "image/png": "[encoded data removed]"
          },
          "metadata": {
            "needs_background": "light"
          }
        }
      ]
    },
    {
      "cell_type": "markdown",
      "source": [
        "# Employees joined in each Year"
      ],
      "metadata": {
        "id": "wNOZDvP9txky"
      },
      "id": "wNOZDvP9txky"
    },
    {
      "cell_type": "code",
      "source": [
        "fig,ax = plt.subplots(figsize=(10,5))\n",
        "sns.countplot(df['JoiningYear'],palette='rocket_r')\n",
        "#a lot of people joined in 2017"
      ],
      "metadata": {
        "colab": {
          "base_uri": "https://localhost:8080/",
          "height": 406
        },
        "id": "2QpTeBqGvdbr",
        "outputId": "b3413c94-eb3e-4919-b367-4ab005fad3e4"
      },
      "id": "2QpTeBqGvdbr",
      "execution_count": 283,
      "outputs": [
        {
          "output_type": "stream",
          "name": "stderr",
          "text": [
            "/usr/local/lib/python3.8/dist-packages/seaborn/_decorators.py:36: FutureWarning: Pass the following variable as a keyword arg: x. From version 0.12, the only valid positional argument will be `data`, and passing other arguments without an explicit keyword will result in an error or misinterpretation.\n",
            "  warnings.warn(\n"
          ]
        },
        {
          "output_type": "execute_result",
          "data": {
            "text/plain": [
              "<matplotlib.axes._subplots.AxesSubplot at 0x7f379b5b9df0>"
            ]
          },
          "metadata": {},
          "execution_count": 283
        },
        {
          "output_type": "display_data",
          "data": {
            "text/plain": [
              "<Figure size 720x360 with 1 Axes>"
            ],
            "image/png": "[encoded data removed]"
          },
          "metadata": {
            "needs_background": "light"
          }
        }
      ]
    },
    {
      "cell_type": "markdown",
      "source": [
        "#Employees working in Each Location"
      ],
      "metadata": {
        "id": "VQxfq2sswyvu"
      },
      "id": "VQxfq2sswyvu"
    },
    {
      "cell_type": "code",
      "source": [
        "plt.figure(figsize=(6, 6))\n",
        "classx = ['Delhi','Bangalore','Pune']\n",
        "colors = sns.color_palette(\"hls\", 8)[5:8]\n",
        "countx = [len(df[df.City == 'Bangalore']),len(df[df.City == 'New Delhi']),len(df[df.City == 'Pune'])]\n",
        "plt.pie(countx, labels = classx,colors=colors,autopct='%1.2f%%')\n",
        "plt.show()#most of the employee are working in delhi"
      ],
      "metadata": {
        "colab": {
          "base_uri": "https://localhost:8080/",
          "height": 357
        },
        "id": "Iru4rawVnXLc",
        "outputId": "6007642f-42d4-4d61-9d5f-410b0392c783"
      },
      "id": "Iru4rawVnXLc",
      "execution_count": 284,
      "outputs": [
        {
          "output_type": "display_data",
          "data": {
            "text/plain": [
              "<Figure size 432x432 with 1 Axes>"
            ],
            "image/png": "[encoded data removed]"
          },
          "metadata": {}
        }
      ]
    },
    {
      "cell_type": "markdown",
      "source": [
        "#Count of Experienced People "
      ],
      "metadata": {
        "id": "Bxv_4QcYxLCP"
      },
      "id": "Bxv_4QcYxLCP"
    },
    {
      "cell_type": "code",
      "source": [
        "fig,ax = plt.subplots(figsize=(10,7))\n",
        "sns.countplot(df['ExperienceInCurrentDomain'],palette='rocket_r')\n",
        "plt.show() #very less employee have experience over 5 years"
      ],
      "metadata": {
        "colab": {
          "base_uri": "https://localhost:8080/",
          "height": 497
        },
        "id": "4oOb-v2FxelV",
        "outputId": "baa50e98-0aba-4ff6-a85a-3bade8319d79"
      },
      "id": "4oOb-v2FxelV",
      "execution_count": 285,
      "outputs": [
        {
          "output_type": "stream",
          "name": "stderr",
          "text": [
            "/usr/local/lib/python3.8/dist-packages/seaborn/_decorators.py:36: FutureWarning: Pass the following variable as a keyword arg: x. From version 0.12, the only valid positional argument will be `data`, and passing other arguments without an explicit keyword will result in an error or misinterpretation.\n",
            "  warnings.warn(\n"
          ]
        },
        {
          "output_type": "display_data",
          "data": {
            "text/plain": [
              "<Figure size 720x504 with 1 Axes>"
            ],
            "image/png": "[encoded data removed]"
          },
          "metadata": {
            "needs_background": "light"
          }
        }
      ]
    },
    {
      "cell_type": "markdown",
      "source": [
        "#Employee Age and Leaving rate\n",
        "\n"
      ],
      "metadata": {
        "id": "k2R7xVQ-x-8-"
      },
      "id": "k2R7xVQ-x-8-"
    },
    {
      "cell_type": "code",
      "source": [
        "leave_emp=pd.crosstab(index=df['Age'],columns=df['LeaveOrNot'])\n",
        "leave_emp.plot.bar()#Most people in bangalore don't leave their job"
      ],
      "metadata": {
        "id": "3rhZBKjIxent",
        "colab": {
          "base_uri": "https://localhost:8080/",
          "height": 299
        },
        "outputId": "9a40045e-0177-4f1d-aa54-dc4e23a7772a"
      },
      "id": "3rhZBKjIxent",
      "execution_count": 286,
      "outputs": [
        {
          "output_type": "execute_result",
          "data": {
            "text/plain": [
              "<matplotlib.axes._subplots.AxesSubplot at 0x7f379b4b4a60>"
            ]
          },
          "metadata": {},
          "execution_count": 286
        },
        {
          "output_type": "display_data",
          "data": {
            "text/plain": [
              "<Figure size 432x288 with 1 Axes>"
            ],
            "image/png": "[encoded data removed]"
          },
          "metadata": {
            "needs_background": "light"
          }
        }
      ]
    },
    {
      "cell_type": "markdown",
      "source": [
        "#Benched and Not Benched employees"
      ],
      "metadata": {
        "id": "ToxckzFn5TRq"
      },
      "id": "ToxckzFn5TRq"
    },
    {
      "cell_type": "code",
      "source": [
        "plt.figure(figsize=(6, 6))\n",
        "classx = ['Benched','Not benched']\n",
        "colors = sns.color_palette(\"hls\", 8)[6:8]\n",
        "dfx = df[df.LeaveOrNot == 1]\n",
        "countx = [len(dfx[dfx.EverBenched == 'Yes']),len(dfx[dfx.EverBenched == 'No'])]\n",
        "plt.pie(countx, labels = classx,colors=colors,autopct='%1.2f%%')\n",
        "plt.show()#Very less people who leave the company were benched"
      ],
      "metadata": {
        "id": "4sSIL3juxeqH",
        "colab": {
          "base_uri": "https://localhost:8080/",
          "height": 357
        },
        "outputId": "94eee20d-d839-4bef-947e-04870870ea30"
      },
      "id": "4sSIL3juxeqH",
      "execution_count": 287,
      "outputs": [
        {
          "output_type": "display_data",
          "data": {
            "text/plain": [
              "<Figure size 432x432 with 1 Axes>"
            ],
            "image/png": "[encoded data removed]"
          },
          "metadata": {}
        }
      ]
    },
    {
      "cell_type": "markdown",
      "source": [
        "#Correlation Matrix"
      ],
      "metadata": {
        "id": "YGLgFzOMpkoD"
      },
      "id": "YGLgFzOMpkoD"
    },
    {
      "cell_type": "code",
      "source": [
        "plt.figure(figsize=(10,5))\n",
        "sns.heatmap(df.corr(),annot= True,cmap = 'YlGnBu')\n",
        "plt.show()"
      ],
      "metadata": {
        "colab": {
          "base_uri": "https://localhost:8080/",
          "height": 455
        },
        "id": "Y4mNnS7QpnOx",
        "outputId": "f0009b20-bc6f-4883-f2c7-04419b801b6f"
      },
      "id": "Y4mNnS7QpnOx",
      "execution_count": 288,
      "outputs": [
        {
          "output_type": "display_data",
          "data": {
            "text/plain": [
              "<Figure size 720x360 with 2 Axes>"
            ],
            "image/png": "[encoded data removed]"
          },
          "metadata": {
            "needs_background": "light"
          }
        }
      ]
    },
    {
      "cell_type": "markdown",
      "id": "68030ced",
      "metadata": {
        "id": "68030ced"
      },
      "source": [
        "# Splitting into Train data and Test data"
      ]
    },
    {
      "cell_type": "code",
      "execution_count": 289,
      "id": "1b2c8d37",
      "metadata": {
        "id": "1b2c8d37"
      },
      "outputs": [],
      "source": [
        "x= new_df.drop(['LeaveOrNot'], axis=1)\n",
        "y= new_df['LeaveOrNot']"
      ]
    },
    {
      "cell_type": "code",
      "execution_count": 290,
      "id": "63100a08",
      "metadata": {
        "id": "63100a08"
      },
      "outputs": [],
      "source": [
        "x_train,x_test,y_train,y_test= train_test_split(x,y,test_size=0.2,random_state=0)\n"
      ]
    },
    {
      "cell_type": "markdown",
      "id": "13f32e0a",
      "metadata": {
        "id": "13f32e0a"
      },
      "source": [
        "# Logistic Regression"
      ]
    },
    {
      "cell_type": "code",
      "execution_count": 291,
      "id": "f06f43ca",
      "metadata": {
        "colab": {
          "base_uri": "https://localhost:8080/"
        },
        "id": "f06f43ca",
        "outputId": "2f984b19-58b3-4054-885e-b8a265ec9f7c"
      },
      "outputs": [
        {
          "output_type": "stream",
          "name": "stderr",
          "text": [
            "/usr/local/lib/python3.8/dist-packages/sklearn/linear_model/_logistic.py:814: ConvergenceWarning: lbfgs failed to converge (status=1):\n",
            "STOP: TOTAL NO. of ITERATIONS REACHED LIMIT.\n",
            "\n",
            "Increase the number of iterations (max_iter) or scale the data as shown in:\n",
            "    https://scikit-learn.org/stable/modules/preprocessing.html\n",
            "Please also refer to the documentation for alternative solver options:\n",
            "    https://scikit-learn.org/stable/modules/linear_model.html#logistic-regression\n",
            "  n_iter_i = _check_optimize_result(\n"
          ]
        },
        {
          "output_type": "execute_result",
          "data": {
            "text/plain": [
              "LogisticRegression()"
            ]
          },
          "metadata": {},
          "execution_count": 291
        }
      ],
      "source": [
        "lr=LogisticRegression()\n",
        "lr.fit(x_train,y_train)"
      ]
    },
    {
      "cell_type": "code",
      "execution_count": 292,
      "id": "a96ce2aa",
      "metadata": {
        "id": "a96ce2aa"
      },
      "outputs": [],
      "source": [
        "log_pred=lr.predict(x_test)"
      ]
    },
    {
      "cell_type": "code",
      "execution_count": 293,
      "id": "9124d1a1",
      "metadata": {
        "colab": {
          "base_uri": "https://localhost:8080/"
        },
        "id": "9124d1a1",
        "outputId": "468e3140-7d75-4316-8cc1-fd35d6538cb3"
      },
      "outputs": [
        {
          "output_type": "stream",
          "name": "stdout",
          "text": [
            "              precision    recall  f1-score   support\n",
            "\n",
            "           0       0.73      0.87      0.80       619\n",
            "           1       0.59      0.36      0.45       312\n",
            "\n",
            "    accuracy                           0.70       931\n",
            "   macro avg       0.66      0.62      0.62       931\n",
            "weighted avg       0.68      0.70      0.68       931\n",
            "\n"
          ]
        }
      ],
      "source": [
        "#Classication Report of Logistic Regression\n",
        "print(classification_report(y_test, log_pred))"
      ]
    },
    {
      "cell_type": "code",
      "execution_count": 294,
      "id": "961cf36c",
      "metadata": {
        "colab": {
          "base_uri": "https://localhost:8080/"
        },
        "id": "961cf36c",
        "outputId": "741b2eb4-74df-4cd9-827c-7a5aa4d81673"
      },
      "outputs": [
        {
          "output_type": "execute_result",
          "data": {
            "text/plain": [
              "0.7013963480128894"
            ]
          },
          "metadata": {},
          "execution_count": 294
        }
      ],
      "source": [
        "#accuracy\n",
        "log_acc=accuracy_score(y_test, log_pred)\n",
        "log_acc"
      ]
    },
    {
      "cell_type": "code",
      "execution_count": 295,
      "id": "e7f322d2",
      "metadata": {
        "colab": {
          "base_uri": "https://localhost:8080/"
        },
        "id": "e7f322d2",
        "outputId": "acb8b6f8-3468-4371-bc66-622ca49323a0"
      },
      "outputs": [
        {
          "output_type": "execute_result",
          "data": {
            "text/plain": [
              "array([[540,  79],\n",
              "       [199, 113]])"
            ]
          },
          "metadata": {},
          "execution_count": 295
        }
      ],
      "source": [
        "#confusion matrix\n",
        "log_cm = confusion_matrix(y_test, log_pred)\n",
        "log_cm"
      ]
    },
    {
      "cell_type": "markdown",
      "id": "67ab5146",
      "metadata": {
        "id": "67ab5146"
      },
      "source": [
        "# Gaussian Naive Bayes Classifier"
      ]
    },
    {
      "cell_type": "code",
      "execution_count": 296,
      "id": "0113c4d7",
      "metadata": {
        "colab": {
          "base_uri": "https://localhost:8080/"
        },
        "id": "0113c4d7",
        "outputId": "94182683-faf5-4a01-94ed-3d36d817a976"
      },
      "outputs": [
        {
          "output_type": "stream",
          "name": "stdout",
          "text": [
            "              precision    recall  f1-score   support\n",
            "\n",
            "           0       0.76      0.80      0.78       619\n",
            "           1       0.56      0.51      0.53       312\n",
            "\n",
            "    accuracy                           0.70       931\n",
            "   macro avg       0.66      0.65      0.66       931\n",
            "weighted avg       0.70      0.70      0.70       931\n",
            "\n"
          ]
        }
      ],
      "source": [
        "gauss=GaussianNB()\n",
        "gauss.fit(x_train,y_train)\n",
        "gauss_pred=gauss.predict(x_test)\n",
        "print(classification_report(y_test, gauss_pred))\n"
      ]
    },
    {
      "cell_type": "code",
      "execution_count": 297,
      "id": "4de70c2f",
      "metadata": {
        "colab": {
          "base_uri": "https://localhost:8080/"
        },
        "id": "4de70c2f",
        "outputId": "f33b3529-7f52-4f84-8dd5-e6672076e649"
      },
      "outputs": [
        {
          "output_type": "execute_result",
          "data": {
            "text/plain": [
              "0.7024704618689581"
            ]
          },
          "metadata": {},
          "execution_count": 297
        }
      ],
      "source": [
        "#accuracy\n",
        "gauss_acc=accuracy_score(y_test, gauss_pred)\n",
        "gauss_acc"
      ]
    },
    {
      "cell_type": "code",
      "execution_count": 298,
      "id": "9daed1b8",
      "metadata": {
        "colab": {
          "base_uri": "https://localhost:8080/"
        },
        "id": "9daed1b8",
        "outputId": "8e65ec83-72b4-4bed-e6bd-f3fe8a2760d1"
      },
      "outputs": [
        {
          "output_type": "execute_result",
          "data": {
            "text/plain": [
              "array([[496, 123],\n",
              "       [154, 158]])"
            ]
          },
          "metadata": {},
          "execution_count": 298
        }
      ],
      "source": [
        "#confusion matrix\n",
        "gauss_cm = confusion_matrix(y_test, gauss_pred)\n",
        "gauss_cm"
      ]
    },
    {
      "cell_type": "markdown",
      "id": "fe211ba6",
      "metadata": {
        "id": "fe211ba6"
      },
      "source": [
        "# Bernoulli Naive Bayes Classifier"
      ]
    },
    {
      "cell_type": "code",
      "execution_count": 299,
      "id": "a152da9c",
      "metadata": {
        "colab": {
          "base_uri": "https://localhost:8080/"
        },
        "id": "a152da9c",
        "outputId": "a0954a03-6811-4149-d7d6-1a62823bc727"
      },
      "outputs": [
        {
          "output_type": "stream",
          "name": "stdout",
          "text": [
            "              precision    recall  f1-score   support\n",
            "\n",
            "           0       0.74      0.80      0.77       619\n",
            "           1       0.52      0.43      0.47       312\n",
            "\n",
            "    accuracy                           0.68       931\n",
            "   macro avg       0.63      0.62      0.62       931\n",
            "weighted avg       0.66      0.68      0.67       931\n",
            "\n"
          ]
        }
      ],
      "source": [
        "ber=BernoulliNB()\n",
        "ber.fit(x_train,y_train)\n",
        "ber_pred=ber.predict(x_test)\n",
        "print(classification_report(y_test, ber_pred))"
      ]
    },
    {
      "cell_type": "code",
      "execution_count": 300,
      "id": "9b93a655",
      "metadata": {
        "colab": {
          "base_uri": "https://localhost:8080/"
        },
        "id": "9b93a655",
        "outputId": "a790833e-e106-45d9-8881-21082dc7bf46"
      },
      "outputs": [
        {
          "output_type": "execute_result",
          "data": {
            "text/plain": [
              "0.677765843179377"
            ]
          },
          "metadata": {},
          "execution_count": 300
        }
      ],
      "source": [
        "#accuracy\n",
        "ber_acc=accuracy_score(y_test, ber_pred)\n",
        "ber_acc"
      ]
    },
    {
      "cell_type": "code",
      "execution_count": 301,
      "id": "bc3b5134",
      "metadata": {
        "colab": {
          "base_uri": "https://localhost:8080/"
        },
        "id": "bc3b5134",
        "outputId": "b283c0be-7ea5-41d9-da65-035d602f19c4"
      },
      "outputs": [
        {
          "output_type": "execute_result",
          "data": {
            "text/plain": [
              "array([[497, 122],\n",
              "       [178, 134]])"
            ]
          },
          "metadata": {},
          "execution_count": 301
        }
      ],
      "source": [
        "#confusion matrix\n",
        "ber_cm = confusion_matrix(y_test, ber_pred)\n",
        "ber_cm"
      ]
    },
    {
      "cell_type": "markdown",
      "id": "eb023876",
      "metadata": {
        "id": "eb023876"
      },
      "source": [
        "# Multinomial Naive Bayes Classifier"
      ]
    },
    {
      "cell_type": "code",
      "execution_count": 302,
      "id": "04c48dbe",
      "metadata": {
        "colab": {
          "base_uri": "https://localhost:8080/"
        },
        "id": "04c48dbe",
        "outputId": "1f45357a-f3a6-4f3a-acd8-30f5a122a7d4"
      },
      "outputs": [
        {
          "output_type": "stream",
          "name": "stdout",
          "text": [
            "              precision    recall  f1-score   support\n",
            "\n",
            "           0       0.73      0.93      0.82       619\n",
            "           1       0.70      0.33      0.45       312\n",
            "\n",
            "    accuracy                           0.73       931\n",
            "   macro avg       0.72      0.63      0.63       931\n",
            "weighted avg       0.72      0.73      0.69       931\n",
            "\n"
          ]
        }
      ],
      "source": [
        "mul=MultinomialNB()\n",
        "mul.fit(x_train,y_train)\n",
        "mul_pred=mul.predict(x_test)\n",
        "print(classification_report(y_test, mul_pred))"
      ]
    },
    {
      "cell_type": "code",
      "execution_count": 303,
      "id": "478c46b3",
      "metadata": {
        "colab": {
          "base_uri": "https://localhost:8080/"
        },
        "id": "478c46b3",
        "outputId": "c1ba05a0-7a51-4ac4-c4d7-a53e521638fb"
      },
      "outputs": [
        {
          "output_type": "execute_result",
          "data": {
            "text/plain": [
              "0.7271750805585392"
            ]
          },
          "metadata": {},
          "execution_count": 303
        }
      ],
      "source": [
        "#accuracy\n",
        "mul_acc=accuracy_score(y_test, mul_pred)\n",
        "mul_acc"
      ]
    },
    {
      "cell_type": "code",
      "execution_count": 304,
      "id": "ac5bfd45",
      "metadata": {
        "colab": {
          "base_uri": "https://localhost:8080/"
        },
        "id": "ac5bfd45",
        "outputId": "b10e7d31-d208-4945-c64f-74d1f5f378fe"
      },
      "outputs": [
        {
          "output_type": "execute_result",
          "data": {
            "text/plain": [
              "array([[575,  44],\n",
              "       [210, 102]])"
            ]
          },
          "metadata": {},
          "execution_count": 304
        }
      ],
      "source": [
        "#confusion matrix\n",
        "mul_cm = confusion_matrix(y_test, mul_pred)\n",
        "mul_cm"
      ]
    },
    {
      "cell_type": "markdown",
      "id": "e9eab847",
      "metadata": {
        "id": "e9eab847"
      },
      "source": [
        "# Decision tree"
      ]
    },
    {
      "cell_type": "code",
      "execution_count": 305,
      "id": "e9bf51c2",
      "metadata": {
        "colab": {
          "base_uri": "https://localhost:8080/"
        },
        "id": "e9bf51c2",
        "outputId": "052b8bee-ce1d-42f9-8dea-1a725fac31c4"
      },
      "outputs": [
        {
          "output_type": "stream",
          "name": "stdout",
          "text": [
            "              precision    recall  f1-score   support\n",
            "\n",
            "           0       0.85      0.88      0.86       619\n",
            "           1       0.74      0.68      0.71       312\n",
            "\n",
            "    accuracy                           0.81       931\n",
            "   macro avg       0.79      0.78      0.79       931\n",
            "weighted avg       0.81      0.81      0.81       931\n",
            "\n"
          ]
        }
      ],
      "source": [
        "deci=DecisionTreeClassifier()\n",
        "deci.fit(x_train,y_train)\n",
        "deci_pred=deci.predict(x_test)\n",
        "print(classification_report(y_test, deci_pred))"
      ]
    },
    {
      "cell_type": "code",
      "execution_count": 306,
      "id": "e39dcc40",
      "metadata": {
        "colab": {
          "base_uri": "https://localhost:8080/"
        },
        "id": "e39dcc40",
        "outputId": "adee490d-36a0-4ebe-a924-5611a1538eb2"
      },
      "outputs": [
        {
          "output_type": "execute_result",
          "data": {
            "text/plain": [
              "0.8131041890440387"
            ]
          },
          "metadata": {},
          "execution_count": 306
        }
      ],
      "source": [
        "#accuracy\n",
        "deci_acc=accuracy_score(y_test, deci_pred)\n",
        "deci_acc"
      ]
    },
    {
      "cell_type": "code",
      "execution_count": 307,
      "id": "60733a69",
      "metadata": {
        "colab": {
          "base_uri": "https://localhost:8080/"
        },
        "id": "60733a69",
        "outputId": "e3c166ad-7410-4380-a12e-070e03e0a141"
      },
      "outputs": [
        {
          "output_type": "execute_result",
          "data": {
            "text/plain": [
              "array([[544,  75],\n",
              "       [ 99, 213]])"
            ]
          },
          "metadata": {},
          "execution_count": 307
        }
      ],
      "source": [
        "#confusion matrix\n",
        "deci_cm = confusion_matrix(y_test, deci_pred)\n",
        "deci_cm"
      ]
    },
    {
      "cell_type": "markdown",
      "id": "72aba424",
      "metadata": {
        "id": "72aba424"
      },
      "source": [
        "# Random Forest Classifier"
      ]
    },
    {
      "cell_type": "code",
      "execution_count": 308,
      "id": "70ecee44",
      "metadata": {
        "collapsed": true,
        "colab": {
          "base_uri": "https://localhost:8080/"
        },
        "id": "70ecee44",
        "outputId": "227a5386-7fa6-403d-f933-76ea7796defe"
      },
      "outputs": [
        {
          "output_type": "stream",
          "name": "stdout",
          "text": [
            "              precision    recall  f1-score   support\n",
            "\n",
            "           0       0.85      0.90      0.87       619\n",
            "           1       0.77      0.68      0.72       312\n",
            "\n",
            "    accuracy                           0.82       931\n",
            "   macro avg       0.81      0.79      0.80       931\n",
            "weighted avg       0.82      0.82      0.82       931\n",
            "\n"
          ]
        }
      ],
      "source": [
        "rf = RandomForestClassifier()\n",
        "rf.fit(x_train,y_train)\n",
        "rf_pred=rf.predict(x_test)\n",
        "print(classification_report(y_test, rf_pred))"
      ]
    },
    {
      "cell_type": "code",
      "execution_count": 309,
      "id": "14d07f15",
      "metadata": {
        "collapsed": true,
        "colab": {
          "base_uri": "https://localhost:8080/"
        },
        "id": "14d07f15",
        "outputId": "c89d84b9-0b15-4f29-806e-6f3204dba1bb"
      },
      "outputs": [
        {
          "output_type": "execute_result",
          "data": {
            "text/plain": [
              "0.8249194414607949"
            ]
          },
          "metadata": {},
          "execution_count": 309
        }
      ],
      "source": [
        "#accuracy\n",
        "rf_acc=accuracy_score(y_test, rf_pred)\n",
        "rf_acc"
      ]
    },
    {
      "cell_type": "code",
      "execution_count": 310,
      "id": "4252abfb",
      "metadata": {
        "colab": {
          "base_uri": "https://localhost:8080/"
        },
        "id": "4252abfb",
        "outputId": "37b773d9-f244-42b6-f220-8332a90835cc"
      },
      "outputs": [
        {
          "output_type": "execute_result",
          "data": {
            "text/plain": [
              "array([[556,  63],\n",
              "       [100, 212]])"
            ]
          },
          "metadata": {},
          "execution_count": 310
        }
      ],
      "source": [
        "#confusion matrix\n",
        "rf_cm = confusion_matrix(y_test, rf_pred)\n",
        "rf_cm"
      ]
    },
    {
      "cell_type": "markdown",
      "id": "e775094f",
      "metadata": {
        "id": "e775094f"
      },
      "source": [
        "# Support Vector Machine"
      ]
    },
    {
      "cell_type": "code",
      "execution_count": 311,
      "id": "018114af",
      "metadata": {
        "colab": {
          "base_uri": "https://localhost:8080/"
        },
        "id": "018114af",
        "outputId": "09fd17e6-ee9b-4641-84a1-38fa4cb22f7e"
      },
      "outputs": [
        {
          "output_type": "stream",
          "name": "stdout",
          "text": [
            "              precision    recall  f1-score   support\n",
            "\n",
            "           0       0.74      0.89      0.81       619\n",
            "           1       0.63      0.38      0.47       312\n",
            "\n",
            "    accuracy                           0.72       931\n",
            "   macro avg       0.68      0.63      0.64       931\n",
            "weighted avg       0.70      0.72      0.69       931\n",
            "\n"
          ]
        }
      ],
      "source": [
        "svm=SVC(kernel='linear', random_state=0)\n",
        "svm.fit(x_train,y_train)\n",
        "svm_pred=svm.predict(x_test)\n",
        "print(classification_report(y_test, svm_pred))"
      ]
    },
    {
      "cell_type": "code",
      "execution_count": 312,
      "id": "49db36ec",
      "metadata": {
        "colab": {
          "base_uri": "https://localhost:8080/"
        },
        "id": "49db36ec",
        "outputId": "a8dfcfb7-03a6-445a-904d-2347148c6959"
      },
      "outputs": [
        {
          "output_type": "execute_result",
          "data": {
            "text/plain": [
              "0.7164339419978518"
            ]
          },
          "metadata": {},
          "execution_count": 312
        }
      ],
      "source": [
        "#accuracy\n",
        "svm_acc=accuracy_score(y_test, svm_pred)\n",
        "svm_acc"
      ]
    },
    {
      "cell_type": "code",
      "execution_count": 313,
      "id": "9fd00664",
      "metadata": {
        "colab": {
          "base_uri": "https://localhost:8080/"
        },
        "id": "9fd00664",
        "outputId": "21e33781-2705-4e2b-e0a5-4db04c07664f"
      },
      "outputs": [
        {
          "output_type": "execute_result",
          "data": {
            "text/plain": [
              "array([[549,  70],\n",
              "       [194, 118]])"
            ]
          },
          "metadata": {},
          "execution_count": 313
        }
      ],
      "source": [
        "#confusion matrix\n",
        "svm_cm = confusion_matrix(y_test, svm_pred)\n",
        "svm_cm"
      ]
    },
    {
      "cell_type": "markdown",
      "id": "d79063b4",
      "metadata": {
        "id": "d79063b4"
      },
      "source": [
        "# K-Nearest Neighbor Classifier"
      ]
    },
    {
      "cell_type": "code",
      "execution_count": 314,
      "id": "c9b0e7e4",
      "metadata": {
        "colab": {
          "base_uri": "https://localhost:8080/"
        },
        "id": "c9b0e7e4",
        "outputId": "040764e6-ae3b-49c3-986e-34459077ef93"
      },
      "outputs": [
        {
          "output_type": "stream",
          "name": "stdout",
          "text": [
            "              precision    recall  f1-score   support\n",
            "\n",
            "           0       0.79      0.89      0.83       619\n",
            "           1       0.70      0.53      0.60       312\n",
            "\n",
            "    accuracy                           0.77       931\n",
            "   macro avg       0.75      0.71      0.72       931\n",
            "weighted avg       0.76      0.77      0.76       931\n",
            "\n"
          ]
        }
      ],
      "source": [
        "knn=KNeighborsClassifier()\n",
        "knn.fit(x_train,y_train)\n",
        "knn_pred=knn.predict(x_test)\n",
        "print(classification_report(y_test, knn_pred))"
      ]
    },
    {
      "cell_type": "code",
      "execution_count": 315,
      "id": "75fc5747",
      "metadata": {
        "colab": {
          "base_uri": "https://localhost:8080/"
        },
        "id": "75fc5747",
        "outputId": "be1710bc-340a-4e67-fd88-6d257274187b"
      },
      "outputs": [
        {
          "output_type": "execute_result",
          "data": {
            "text/plain": [
              "0.7669172932330827"
            ]
          },
          "metadata": {},
          "execution_count": 315
        }
      ],
      "source": [
        "#accuracy\n",
        "knn_acc=accuracy_score(y_test, knn_pred)\n",
        "knn_acc"
      ]
    },
    {
      "cell_type": "code",
      "execution_count": 316,
      "id": "c5f3d7fa",
      "metadata": {
        "colab": {
          "base_uri": "https://localhost:8080/"
        },
        "id": "c5f3d7fa",
        "outputId": "28b3a381-7389-4ca1-f1af-59fcb009be0d"
      },
      "outputs": [
        {
          "output_type": "execute_result",
          "data": {
            "text/plain": [
              "array([[548,  71],\n",
              "       [146, 166]])"
            ]
          },
          "metadata": {},
          "execution_count": 316
        }
      ],
      "source": [
        "#confusion matrix\n",
        "knn_cm = confusion_matrix(y_test, knn_pred)\n",
        "knn_cm"
      ]
    },
    {
      "cell_type": "markdown",
      "id": "62147b71",
      "metadata": {
        "id": "62147b71"
      },
      "source": [
        "# K-Means Clustering"
      ]
    },
    {
      "cell_type": "code",
      "execution_count": 317,
      "id": "6e030ea9",
      "metadata": {
        "scrolled": true,
        "colab": {
          "base_uri": "https://localhost:8080/",
          "height": 295
        },
        "id": "6e030ea9",
        "outputId": "a2974458-4769-416e-b6e7-0876097e3ea6"
      },
      "outputs": [
        {
          "output_type": "display_data",
          "data": {
            "text/plain": [
              "<Figure size 432x288 with 1 Axes>"
            ],
            "image/png": "[encoded data removed]"
          },
          "metadata": {
            "needs_background": "light"
          }
        }
      ],
      "source": [
        "l= []  #Initializing the list for the value\n",
        "  \n",
        "#Using for loop for iterations from 1 to 10.  \n",
        "for i in range(1, 11):  \n",
        "    kmeans = KMeans(n_clusters=i, init='k-means++', random_state= 42)  \n",
        "    kmeans.fit(x)  \n",
        "    l.append(kmeans.inertia_)  \n",
        "plt.plot(range(1, 11), l)  \n",
        "plt.title('The Elobw Method Graph')  \n",
        "plt.xlabel('Number of clusters(k)')  \n",
        "plt.ylabel('list')  \n",
        "plt.show()"
      ]
    },
    {
      "cell_type": "code",
      "execution_count": 318,
      "id": "093655c1",
      "metadata": {
        "scrolled": true,
        "colab": {
          "base_uri": "https://localhost:8080/"
        },
        "id": "093655c1",
        "outputId": "194fcc91-7148-45fd-952f-79e17fe82d50"
      },
      "outputs": [
        {
          "output_type": "stream",
          "name": "stdout",
          "text": [
            "              precision    recall  f1-score   support\n",
            "\n",
            "           0       0.67      0.74      0.70       619\n",
            "           1       0.35      0.29      0.32       312\n",
            "\n",
            "    accuracy                           0.59       931\n",
            "   macro avg       0.51      0.51      0.51       931\n",
            "weighted avg       0.57      0.59      0.57       931\n",
            "\n"
          ]
        }
      ],
      "source": [
        "kmeans = KMeans(n_clusters=2, init='k-means++', random_state= 4)  \n",
        "kmeans_pred= kmeans.fit_predict(x_train)\n",
        "kmeans.fit(x_train,y_train)\n",
        "kmeans_pred=kmeans.predict(x_test)\n",
        "print(classification_report(y_test, kmeans_pred))"
      ]
    },
    {
      "cell_type": "code",
      "source": [
        "from sklearn.cluster import KMeans\n",
        " \n",
        "#Initialize the class object\n",
        "kmeans = KMeans(n_clusters= 2)\n",
        " \n",
        "#predict the labels of clusters.\n",
        "label = kmeans.fit_predict(x)\n",
        " \n",
        "print(label)"
      ],
      "metadata": {
        "colab": {
          "base_uri": "https://localhost:8080/"
        },
        "id": "2WUuZ3qkIZlM",
        "outputId": "9a92a345-841a-4ff2-a19a-f51e5d8a03d8"
      },
      "id": "2WUuZ3qkIZlM",
      "execution_count": 319,
      "outputs": [
        {
          "output_type": "stream",
          "name": "stdout",
          "text": [
            "[0 1 0 ... 1 1 0]\n"
          ]
        }
      ]
    },
    {
      "cell_type": "code",
      "execution_count": 320,
      "id": "d3a1705f",
      "metadata": {
        "colab": {
          "base_uri": "https://localhost:8080/"
        },
        "id": "d3a1705f",
        "outputId": "d288ea65-ddb3-4b69-d22c-5a98d940034a"
      },
      "outputs": [
        {
          "output_type": "execute_result",
          "data": {
            "text/plain": [
              "0.5853920515574651"
            ]
          },
          "metadata": {},
          "execution_count": 320
        }
      ],
      "source": [
        "#accuracy\n",
        "kmeans_acc=accuracy_score(y_test, kmeans_pred)\n",
        "kmeans_acc"
      ]
    },
    {
      "cell_type": "code",
      "execution_count": 321,
      "id": "582fb7b0",
      "metadata": {
        "colab": {
          "base_uri": "https://localhost:8080/"
        },
        "id": "582fb7b0",
        "outputId": "3779a415-7aa7-43ce-fc28-92dc72eb11ff"
      },
      "outputs": [
        {
          "output_type": "execute_result",
          "data": {
            "text/plain": [
              "array([[455, 164],\n",
              "       [222,  90]])"
            ]
          },
          "metadata": {},
          "execution_count": 321
        }
      ],
      "source": [
        "#confusion matrix\n",
        "kmeans_cm = confusion_matrix(y_test, kmeans_pred)\n",
        "kmeans_cm"
      ]
    },
    {
      "cell_type": "markdown",
      "id": "703592eb",
      "metadata": {
        "id": "703592eb"
      },
      "source": [
        "# STOCHASTIC GRADIENR DESCENT"
      ]
    },
    {
      "cell_type": "code",
      "source": [
        "from sklearn.linear_model import SGDClassifier\n",
        "clf = SGDClassifier()\n",
        "clf.fit(x_train,y_train)\n",
        "sgd_pred=clf.predict(x_test)\n",
        "print(classification_report(y_test, sgd_pred))"
      ],
      "metadata": {
        "colab": {
          "base_uri": "https://localhost:8080/"
        },
        "id": "k4eOy7Xs9e4I",
        "outputId": "eb447a0d-88d9-4ffd-bb7f-368fa0a54c5b"
      },
      "id": "k4eOy7Xs9e4I",
      "execution_count": 322,
      "outputs": [
        {
          "output_type": "stream",
          "name": "stdout",
          "text": [
            "              precision    recall  f1-score   support\n",
            "\n",
            "           0       0.66      1.00      0.80       619\n",
            "           1       0.00      0.00      0.00       312\n",
            "\n",
            "    accuracy                           0.66       931\n",
            "   macro avg       0.33      0.50      0.40       931\n",
            "weighted avg       0.44      0.66      0.53       931\n",
            "\n"
          ]
        },
        {
          "output_type": "stream",
          "name": "stderr",
          "text": [
            "/usr/local/lib/python3.8/dist-packages/sklearn/metrics/_classification.py:1318: UndefinedMetricWarning: Precision and F-score are ill-defined and being set to 0.0 in labels with no predicted samples. Use `zero_division` parameter to control this behavior.\n",
            "  _warn_prf(average, modifier, msg_start, len(result))\n",
            "/usr/local/lib/python3.8/dist-packages/sklearn/metrics/_classification.py:1318: UndefinedMetricWarning: Precision and F-score are ill-defined and being set to 0.0 in labels with no predicted samples. Use `zero_division` parameter to control this behavior.\n",
            "  _warn_prf(average, modifier, msg_start, len(result))\n",
            "/usr/local/lib/python3.8/dist-packages/sklearn/metrics/_classification.py:1318: UndefinedMetricWarning: Precision and F-score are ill-defined and being set to 0.0 in labels with no predicted samples. Use `zero_division` parameter to control this behavior.\n",
            "  _warn_prf(average, modifier, msg_start, len(result))\n"
          ]
        }
      ]
    },
    {
      "cell_type": "code",
      "source": [
        "#accuracy\n",
        "sgd_acc=accuracy_score(y_test, sgd_pred)\n",
        "sgd_acc"
      ],
      "metadata": {
        "colab": {
          "base_uri": "https://localhost:8080/"
        },
        "id": "3MoT4R5RBx82",
        "outputId": "842646d0-c128-4463-eb9d-742d2ddc926b"
      },
      "id": "3MoT4R5RBx82",
      "execution_count": 323,
      "outputs": [
        {
          "output_type": "execute_result",
          "data": {
            "text/plain": [
              "0.664876476906552"
            ]
          },
          "metadata": {},
          "execution_count": 323
        }
      ]
    },
    {
      "cell_type": "code",
      "source": [
        "#confusion matrix\n",
        "sgd_cm = confusion_matrix(y_test, sgd_pred)\n",
        "sgd_cm"
      ],
      "metadata": {
        "id": "HvU98zws-LLb",
        "colab": {
          "base_uri": "https://localhost:8080/"
        },
        "outputId": "67e94948-4a5e-4cf3-ed81-e308bd2b583d"
      },
      "id": "HvU98zws-LLb",
      "execution_count": 324,
      "outputs": [
        {
          "output_type": "execute_result",
          "data": {
            "text/plain": [
              "array([[619,   0],\n",
              "       [312,   0]])"
            ]
          },
          "metadata": {},
          "execution_count": 324
        }
      ]
    },
    {
      "cell_type": "markdown",
      "source": [
        "#GRADIENT BOOSTING"
      ],
      "metadata": {
        "id": "l8KP_kiK7CMT"
      },
      "id": "l8KP_kiK7CMT"
    },
    {
      "cell_type": "code",
      "source": [
        "gdc_clf = GradientBoostingClassifier(n_estimators=100, max_features='auto', max_depth = 4, random_state = 42) \n",
        "gdc_clf.fit(x_train, y_train)\n",
        "gbc_pred = gdc_clf.predict(x_test)\n",
        "print(classification_report(y_test, gbc_pred))"
      ],
      "metadata": {
        "colab": {
          "base_uri": "https://localhost:8080/"
        },
        "id": "_J3kB5p96qQy",
        "outputId": "379f904f-017b-488b-f565-81829e865380"
      },
      "id": "_J3kB5p96qQy",
      "execution_count": 325,
      "outputs": [
        {
          "output_type": "stream",
          "name": "stdout",
          "text": [
            "              precision    recall  f1-score   support\n",
            "\n",
            "           0       0.85      0.94      0.89       619\n",
            "           1       0.84      0.66      0.74       312\n",
            "\n",
            "    accuracy                           0.85       931\n",
            "   macro avg       0.84      0.80      0.82       931\n",
            "weighted avg       0.85      0.85      0.84       931\n",
            "\n"
          ]
        }
      ]
    },
    {
      "cell_type": "code",
      "source": [
        "gbc_acc=accuracy_score(y_test,gbc_pred)\n",
        "gbc_acc"
      ],
      "metadata": {
        "colab": {
          "base_uri": "https://localhost:8080/"
        },
        "id": "MdVYp9f86wpV",
        "outputId": "84754f92-6f59-4ce1-c076-dbb56f96ada4"
      },
      "id": "MdVYp9f86wpV",
      "execution_count": 326,
      "outputs": [
        {
          "output_type": "execute_result",
          "data": {
            "text/plain": [
              "0.8453276047261009"
            ]
          },
          "metadata": {},
          "execution_count": 326
        }
      ]
    },
    {
      "cell_type": "code",
      "source": [
        "gbc_cm = confusion_matrix(y_test, gbc_pred)\n",
        "gbc_cm"
      ],
      "metadata": {
        "colab": {
          "base_uri": "https://localhost:8080/"
        },
        "id": "O4CJs0z56wtZ",
        "outputId": "df3dc6a3-f073-45f0-b5a3-0cb27406c56d"
      },
      "id": "O4CJs0z56wtZ",
      "execution_count": 327,
      "outputs": [
        {
          "output_type": "execute_result",
          "data": {
            "text/plain": [
              "array([[581,  38],\n",
              "       [106, 206]])"
            ]
          },
          "metadata": {},
          "execution_count": 327
        }
      ]
    },
    {
      "cell_type": "markdown",
      "source": [
        "#Artificial Neural Networks"
      ],
      "metadata": {
        "id": "dTxMQZP-Adsh"
      },
      "id": "dTxMQZP-Adsh"
    },
    {
      "cell_type": "code",
      "source": [
        "from sklearn.preprocessing import StandardScaler\n",
        "sc = StandardScaler()\n",
        "X_train = sc.fit_transform(x_train)\n",
        "X_test = sc.transform(x_test)"
      ],
      "metadata": {
        "id": "VPmng3Y5Csy5"
      },
      "id": "VPmng3Y5Csy5",
      "execution_count": 328,
      "outputs": []
    },
    {
      "cell_type": "code",
      "source": [
        "ann = tf.keras.models.Sequential()\n",
        "#input layer\n",
        "# 6 features\n",
        "ann.add(tf.keras.layers.Dense(units=6, activation='relu'))\n",
        "#hidden layer\n",
        "ann.add(tf.keras.layers.Dense(units=6, activation='relu'))\n",
        "#output layer\n",
        "#as target value is binary we use sigmoid\n",
        "ann.add(tf.keras.layers.Dense(units=1, activation='sigmoid'))"
      ],
      "metadata": {
        "id": "1IVy7u3tDVRT"
      },
      "id": "1IVy7u3tDVRT",
      "execution_count": 329,
      "outputs": []
    },
    {
      "cell_type": "code",
      "source": [
        "ann.compile(optimizer = 'adam', loss = 'binary_crossentropy', metrics = ['accuracy'])\n",
        "ann.fit(X_train, y_train, batch_size = 32, epochs = 50)"
      ],
      "metadata": {
        "colab": {
          "base_uri": "https://localhost:8080/"
        },
        "id": "dHTgX7i8DbNa",
        "outputId": "c935d555-f685-4f11-9743-7ea56e4d7005"
      },
      "id": "dHTgX7i8DbNa",
      "execution_count": 330,
      "outputs": [
        {
          "output_type": "stream",
          "name": "stdout",
          "text": [
            "Epoch 1/50\n",
            "117/117 [==============================] - 1s 2ms/step - loss: 0.6700 - accuracy: 0.6429\n",
            "Epoch 2/50\n",
            "117/117 [==============================] - 0s 2ms/step - loss: 0.6133 - accuracy: 0.6824\n",
            "Epoch 3/50\n",
            "117/117 [==============================] - 0s 2ms/step - loss: 0.5781 - accuracy: 0.7123\n",
            "Epoch 4/50\n",
            "117/117 [==============================] - 0s 2ms/step - loss: 0.5613 - accuracy: 0.7238\n",
            "Epoch 5/50\n",
            "117/117 [==============================] - 0s 2ms/step - loss: 0.5488 - accuracy: 0.7308\n",
            "Epoch 6/50\n",
            "117/117 [==============================] - 0s 2ms/step - loss: 0.5368 - accuracy: 0.7389\n",
            "Epoch 7/50\n",
            "117/117 [==============================] - 0s 2ms/step - loss: 0.5261 - accuracy: 0.7423\n",
            "Epoch 8/50\n",
            "117/117 [==============================] - 0s 2ms/step - loss: 0.5162 - accuracy: 0.7458\n",
            "Epoch 9/50\n",
            "117/117 [==============================] - 0s 2ms/step - loss: 0.5070 - accuracy: 0.7496\n",
            "Epoch 10/50\n",
            "117/117 [==============================] - 0s 2ms/step - loss: 0.4995 - accuracy: 0.7550\n",
            "Epoch 11/50\n",
            "117/117 [==============================] - 0s 2ms/step - loss: 0.4916 - accuracy: 0.7649\n",
            "Epoch 12/50\n",
            "117/117 [==============================] - 0s 2ms/step - loss: 0.4850 - accuracy: 0.7797\n",
            "Epoch 13/50\n",
            "117/117 [==============================] - 0s 2ms/step - loss: 0.4779 - accuracy: 0.7861\n",
            "Epoch 14/50\n",
            "117/117 [==============================] - 0s 2ms/step - loss: 0.4722 - accuracy: 0.7931\n",
            "Epoch 15/50\n",
            "117/117 [==============================] - 0s 2ms/step - loss: 0.4670 - accuracy: 0.7961\n",
            "Epoch 16/50\n",
            "117/117 [==============================] - 0s 2ms/step - loss: 0.4619 - accuracy: 0.8001\n",
            "Epoch 17/50\n",
            "117/117 [==============================] - 0s 2ms/step - loss: 0.4577 - accuracy: 0.7955\n",
            "Epoch 18/50\n",
            "117/117 [==============================] - 0s 2ms/step - loss: 0.4530 - accuracy: 0.8036\n",
            "Epoch 19/50\n",
            "117/117 [==============================] - 0s 2ms/step - loss: 0.4480 - accuracy: 0.8066\n",
            "Epoch 20/50\n",
            "117/117 [==============================] - 0s 2ms/step - loss: 0.4441 - accuracy: 0.8103\n",
            "Epoch 21/50\n",
            "117/117 [==============================] - 0s 2ms/step - loss: 0.4403 - accuracy: 0.8160\n",
            "Epoch 22/50\n",
            "117/117 [==============================] - 0s 2ms/step - loss: 0.4367 - accuracy: 0.8181\n",
            "Epoch 23/50\n",
            "117/117 [==============================] - 0s 2ms/step - loss: 0.4331 - accuracy: 0.8186\n",
            "Epoch 24/50\n",
            "117/117 [==============================] - 0s 2ms/step - loss: 0.4302 - accuracy: 0.8195\n",
            "Epoch 25/50\n",
            "117/117 [==============================] - 0s 2ms/step - loss: 0.4281 - accuracy: 0.8208\n",
            "Epoch 26/50\n",
            "117/117 [==============================] - 0s 2ms/step - loss: 0.4249 - accuracy: 0.8200\n",
            "Epoch 27/50\n",
            "117/117 [==============================] - 0s 2ms/step - loss: 0.4227 - accuracy: 0.8197\n",
            "Epoch 28/50\n",
            "117/117 [==============================] - 0s 2ms/step - loss: 0.4206 - accuracy: 0.8219\n",
            "Epoch 29/50\n",
            "117/117 [==============================] - 0s 2ms/step - loss: 0.4186 - accuracy: 0.8243\n",
            "Epoch 30/50\n",
            "117/117 [==============================] - 0s 2ms/step - loss: 0.4169 - accuracy: 0.8248\n",
            "Epoch 31/50\n",
            "117/117 [==============================] - 0s 2ms/step - loss: 0.4152 - accuracy: 0.8259\n",
            "Epoch 32/50\n",
            "117/117 [==============================] - 0s 2ms/step - loss: 0.4133 - accuracy: 0.8243\n",
            "Epoch 33/50\n",
            "117/117 [==============================] - 0s 2ms/step - loss: 0.4120 - accuracy: 0.8251\n",
            "Epoch 34/50\n",
            "117/117 [==============================] - 0s 2ms/step - loss: 0.4105 - accuracy: 0.8256\n",
            "Epoch 35/50\n",
            "117/117 [==============================] - 0s 2ms/step - loss: 0.4096 - accuracy: 0.8254\n",
            "Epoch 36/50\n",
            "117/117 [==============================] - 0s 2ms/step - loss: 0.4089 - accuracy: 0.8270\n",
            "Epoch 37/50\n",
            "117/117 [==============================] - 0s 2ms/step - loss: 0.4074 - accuracy: 0.8262\n",
            "Epoch 38/50\n",
            "117/117 [==============================] - 0s 2ms/step - loss: 0.4057 - accuracy: 0.8251\n",
            "Epoch 39/50\n",
            "117/117 [==============================] - 0s 2ms/step - loss: 0.4055 - accuracy: 0.8264\n",
            "Epoch 40/50\n",
            "117/117 [==============================] - 0s 2ms/step - loss: 0.4043 - accuracy: 0.8270\n",
            "Epoch 41/50\n",
            "117/117 [==============================] - 0s 2ms/step - loss: 0.4037 - accuracy: 0.8254\n",
            "Epoch 42/50\n",
            "117/117 [==============================] - 0s 2ms/step - loss: 0.4028 - accuracy: 0.8283\n",
            "Epoch 43/50\n",
            "117/117 [==============================] - 0s 2ms/step - loss: 0.4017 - accuracy: 0.8259\n",
            "Epoch 44/50\n",
            "117/117 [==============================] - 0s 2ms/step - loss: 0.4011 - accuracy: 0.8270\n",
            "Epoch 45/50\n",
            "117/117 [==============================] - 0s 2ms/step - loss: 0.3999 - accuracy: 0.8280\n",
            "Epoch 46/50\n",
            "117/117 [==============================] - 0s 2ms/step - loss: 0.3993 - accuracy: 0.8275\n",
            "Epoch 47/50\n",
            "117/117 [==============================] - 0s 2ms/step - loss: 0.3987 - accuracy: 0.8278\n",
            "Epoch 48/50\n",
            "117/117 [==============================] - 0s 2ms/step - loss: 0.3982 - accuracy: 0.8272\n",
            "Epoch 49/50\n",
            "117/117 [==============================] - 0s 2ms/step - loss: 0.3975 - accuracy: 0.8305\n",
            "Epoch 50/50\n",
            "117/117 [==============================] - 0s 2ms/step - loss: 0.3970 - accuracy: 0.8278\n"
          ]
        },
        {
          "output_type": "execute_result",
          "data": {
            "text/plain": [
              "<keras.callbacks.History at 0x7f379b21f310>"
            ]
          },
          "metadata": {},
          "execution_count": 330
        }
      ]
    },
    {
      "cell_type": "code",
      "source": [
        "ann_pred = ann.predict(X_test)\n"
      ],
      "metadata": {
        "colab": {
          "base_uri": "https://localhost:8080/"
        },
        "id": "Jp8ULatEDeJF",
        "outputId": "44a0f2a4-1f54-4802-bfe1-76c3118e92d2"
      },
      "id": "Jp8ULatEDeJF",
      "execution_count": 331,
      "outputs": [
        {
          "output_type": "stream",
          "name": "stdout",
          "text": [
            "30/30 [==============================] - 0s 1ms/step\n"
          ]
        }
      ]
    },
    {
      "cell_type": "code",
      "source": [
        "ann_pred = (ann_pred > 0.5)"
      ],
      "metadata": {
        "id": "jQ_z8u7Wkj6q"
      },
      "id": "jQ_z8u7Wkj6q",
      "execution_count": 332,
      "outputs": []
    },
    {
      "cell_type": "code",
      "source": [
        "ann_acc=accuracy_score(ann_pred,y_test)\n",
        "ann_acc"
      ],
      "metadata": {
        "colab": {
          "base_uri": "https://localhost:8080/"
        },
        "id": "EYEz0yRqjV3G",
        "outputId": "4585682d-40b3-4bb2-c7db-c16ee80d108a"
      },
      "id": "EYEz0yRqjV3G",
      "execution_count": 333,
      "outputs": [
        {
          "output_type": "execute_result",
          "data": {
            "text/plain": [
              "0.8120300751879699"
            ]
          },
          "metadata": {},
          "execution_count": 333
        }
      ]
    },
    {
      "cell_type": "markdown",
      "source": [
        "#COMPARISION GRAPH OF VARIOUS MODELS"
      ],
      "metadata": {
        "id": "vtMdmH42-hWt"
      },
      "id": "vtMdmH42-hWt"
    },
    {
      "cell_type": "code",
      "source": [
        "data = {'Logistic Regression':log_acc, 'Gaussian Classifier':gauss_acc, 'Bernoulli Classifier':ber_acc,'Multinomial Classifier':mul_acc,'Decision_Tree':deci_acc,'Random Forest Classifier':rf_acc,'Support Vector Machine':svm_acc,'K-Nearest Neighbor':knn_acc,'K-Means':kmeans_acc,'Stochastic Gradient Desent':sgd_acc,'Gradient Boosting':gbc_acc,'ANN':ann_acc}\n",
        "Models = list(data.keys())\n",
        "Accuracy = list(data.values())\n",
        "\n",
        "fig = plt.figure(figsize = (30, 10))\n",
        "\n",
        "plt.bar(Models, Accuracy, color ='blue',width = 0.4)\n",
        "\n",
        "plt.xlabel(\"Machine Learning Models\")\n",
        "plt.ylabel(\"Accuracy Scores\")\n",
        "plt.title(\"Comparison Graph of Models\")\n",
        "plt.show()"
      ],
      "metadata": {
        "id": "YcJM9iNpksQs",
        "colab": {
          "base_uri": "https://localhost:8080/",
          "height": 423
        },
        "outputId": "da51c35c-d95f-4455-b27d-e90e600d58e0"
      },
      "id": "YcJM9iNpksQs",
      "execution_count": 334,
      "outputs": [
        {
          "output_type": "display_data",
          "data": {
            "text/plain": [
              "<Figure size 2160x720 with 1 Axes>"
            ],
            "image/png": "[encoded data removed]"
          },
          "metadata": {
            "needs_background": "light"
          }
        }
      ]
    },
    {
      "cell_type": "markdown",
      "source": [
        "#From the above comparitive analysis it is inferred that Gradient Boosting Classifier gives the best accuracy"
      ],
      "metadata": {
        "id": "ZfxuKciVBeum"
      },
      "id": "ZfxuKciVBeum"
    }
  ],
  "metadata": {
    "kernelspec": {
      "display_name": "Python 3 (ipykernel)",
      "language": "python",
      "name": "python3"
    },
    "language_info": {
      "codemirror_mode": {
        "name": "ipython",
        "version": 3
      },
      "file_extension": ".py",
      "mimetype": "text/x-python",
      "name": "python",
      "nbconvert_exporter": "python",
      "pygments_lexer": "ipython3",
      "version": "3.8.11"
    },
    "colab": {
      "provenance": []
    }
  },
  "nbformat": 4,
  "nbformat_minor": 5
}